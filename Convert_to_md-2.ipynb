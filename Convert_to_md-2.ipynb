{
  "nbformat": 4,
  "nbformat_minor": 0,
  "metadata": {
    "colab": {
      "name": "Convert_to_md.ipynb",
      "provenance": []
    },
    "kernelspec": {
      "name": "python3",
      "display_name": "Python 3"
    },
    "language_info": {
      "name": "python"
    }
  },
  "cells": [
    {
      "cell_type": "markdown",
      "source": [
        "# Markdown conversion\n",
        "This notebook is to help convert documents to markdown format. Markdown format can be used to display content on the web. We use markdown on Github  for WCS courses.\n",
        "\n",
        "Run the cells below with \"shift + enter\" or by clicking the \"Play\" (triangle) on the left hand side of the cell. \n",
        "\n",
        "The first cell will install conda. Conda is an open source system of managing tools and libraries. More info on the library used to install conda on Google Colab is at this [website](https://inside-machinelearning.com/en/how-to-install-use-conda-on-google-colab/)\n"
      ],
      "metadata": {
        "id": "VE74tXW1jMud"
      }
    },
    {
      "cell_type": "code",
      "source": [
        "!pip install -q condacolab\n",
        "import condacolab\n",
        "condacolab.install()"
      ],
      "metadata": {
        "colab": {
          "base_uri": "https://localhost:8080/"
        },
        "collapsed": true,
        "id": "KbIzQxvFWllQ",
        "outputId": "c23e15c6-772a-4b15-a8a9-a2ba58e98f57"
      },
      "execution_count": 5,
      "outputs": [
        {
          "output_type": "stream",
          "name": "stdout",
          "text": [
            "✨🍰✨ Everything looks OK!\n"
          ]
        }
      ]
    },
    {
      "cell_type": "markdown",
      "source": [
        "# Install pandoc\n",
        "Next we install pandoc, a very useful tool for converting documents. There are [demos](https://pandoc.org/demos.html) for other kinds of conversions pandoc can do"
      ],
      "metadata": {
        "id": "wtfoOPjYk_mY"
      }
    },
    {
      "cell_type": "code",
      "source": [
        "!conda install -c conda-forge pandoc "
      ],
      "metadata": {
        "colab": {
          "base_uri": "https://localhost:8080/"
        },
        "collapsed": true,
        "id": "yQDUiiejW-1o",
        "outputId": "f2ef7a7e-c690-4e76-d685-278cba4cd604"
      },
      "execution_count": 1,
      "outputs": [
        {
          "output_type": "stream",
          "name": "stdout",
          "text": [
            "Collecting package metadata (current_repodata.json): - \b\b\\ \b\b| \b\b/ \b\b- \b\b\\ \b\b| \b\b/ \b\b- \b\b\\ \b\b| \b\b/ \b\b- \b\b\\ \b\b| \b\b/ \b\b- \b\b\\ \b\b| \b\b/ \b\b- \b\b\\ \b\b| \b\b/ \b\b- \b\b\\ \b\b| \b\b/ \b\b- \b\b\\ \b\b| \b\b/ \b\b- \b\b\\ \b\b| \b\b/ \b\b- \b\b\\ \b\b| \b\b/ \b\b- \b\b\\ \b\b| \b\b/ \b\b- \b\b\\ \b\b| \b\b/ \b\b- \b\b\\ \b\b| \b\b/ \b\b- \b\b\\ \b\b| \b\b/ \b\b- \b\b\\ \b\b| \b\b/ \b\b- \b\b\\ \b\b| \b\b/ \b\b- \b\b\\ \b\b| \b\b/ \b\b- \b\b\\ \b\b| \b\b/ \b\b- \b\b\\ \b\b| \b\b/ \b\b- \b\b\\ \b\b| \b\b/ \b\b- \b\b\\ \b\b| \b\b/ \b\b- \b\b\\ \b\b| \b\b/ \b\b- \b\b\\ \b\b| \b\b/ \b\b- \b\b\\ \b\b| \b\b/ \b\bdone\n",
            "Solving environment: \\ \b\b| \b\b/ \b\b- \b\b\\ \b\b| \b\b/ \b\b- \b\b\\ \b\bdone\n",
            "\n",
            "## Package Plan ##\n",
            "\n",
            "  environment location: /usr/local\n",
            "\n",
            "  added / updated specs:\n",
            "    - pandoc\n",
            "\n",
            "\n",
            "The following packages will be downloaded:\n",
            "\n",
            "    package                    |            build\n",
            "    ---------------------------|-----------------\n",
            "    ca-certificates-2022.5.18.1|       ha878542_0         144 KB  conda-forge\n",
            "    certifi-2022.5.18.1        |   py37h89c1867_0         150 KB  conda-forge\n",
            "    conda-4.12.0               |   py37h89c1867_0         1.0 MB  conda-forge\n",
            "    pandoc-2.18                |       ha770c72_0        12.5 MB  conda-forge\n",
            "    ------------------------------------------------------------\n",
            "                                           Total:        13.8 MB\n",
            "\n",
            "The following NEW packages will be INSTALLED:\n",
            "\n",
            "  pandoc             conda-forge/linux-64::pandoc-2.18-ha770c72_0\n",
            "\n",
            "The following packages will be UPDATED:\n",
            "\n",
            "  ca-certificates                      2020.12.5-ha878542_0 --> 2022.5.18.1-ha878542_0\n",
            "  certifi                          2020.12.5-py37h89c1867_1 --> 2022.5.18.1-py37h89c1867_0\n",
            "  conda                                4.9.2-py37h89c1867_0 --> 4.12.0-py37h89c1867_0\n",
            "\n",
            "\n",
            "\n",
            "Downloading and Extracting Packages\n",
            "certifi-2022.5.18.1  | 150 KB    | : 100% 1.0/1 [00:00<00:00, 13.28it/s]\n",
            "ca-certificates-2022 | 144 KB    | : 100% 1.0/1 [00:00<00:00, 22.02it/s]\n",
            "pandoc-2.18          | 12.5 MB   | : 100% 1.0/1 [00:03<00:00,  3.10s/it]\n",
            "conda-4.12.0         | 1.0 MB    | : 100% 1.0/1 [00:00<00:00,  3.67it/s]\n",
            "Preparing transaction: / \b\bdone\n",
            "Verifying transaction: \\ \b\bdone\n",
            "Executing transaction: / \b\bdone\n"
          ]
        }
      ]
    },
    {
      "cell_type": "markdown",
      "source": [
        "# Retrieve example files:\n",
        "Next we will clone a Github repo which contains an example word document which we will convert. You may also upload your own documents by clicking on the \"folder\"  icon on the left hand side tab, and then the \"upload files\" icon, under \"Files\"."
      ],
      "metadata": {
        "id": "MGRQcT-5me2n"
      }
    },
    {
      "cell_type": "code",
      "source": [
        "!git clone https://github.com/WCSCourses/format_convert.git"
      ],
      "metadata": {
        "colab": {
          "base_uri": "https://localhost:8080/"
        },
        "id": "Q8VZWLadhL5M",
        "outputId": "ab09892e-478a-4c75-c382-85aedb5f22e5"
      },
      "execution_count": 2,
      "outputs": [
        {
          "output_type": "stream",
          "name": "stdout",
          "text": [
            "Cloning into 'format_convert'...\n",
            "remote: Enumerating objects: 6, done.\u001b[K\n",
            "remote: Counting objects: 100% (6/6), done.\u001b[K\n",
            "remote: Compressing objects: 100% (4/4), done.\u001b[K\n",
            "remote: Total 6 (delta 0), reused 0 (delta 0), pack-reused 0\u001b[K\n",
            "Unpacking objects: 100% (6/6), done.\n"
          ]
        }
      ]
    },
    {
      "cell_type": "markdown",
      "source": [
        "#Running pandoc\n",
        "Next we will run pandoc, indicating our source file with \"-s\", and then name of the output file with \"-o\""
      ],
      "metadata": {
        "id": "gkyr998UnAVV"
      }
    },
    {
      "cell_type": "code",
      "source": [
        "!pandoc -s ./format_convert/Example_wordoc.docx -o example_markdown.md"
      ],
      "metadata": {
        "id": "IoKO4361hgkR"
      },
      "execution_count": 4,
      "outputs": []
    },
    {
      "cell_type": "markdown",
      "source": [
        "# Using the converted docs\n",
        "Now you may use the converted document on github or any other web source that supports markdown. If you dont see the doc yet, right click on the space in the \"Files\" tab on the left, and select \"Refresh\". You can then download the \"example_markdown\" file by right clicking or clicking the three dots on the right of its name and selecting \"Download\". Markdown is best opened in a text editor. Windows- Notepad, Mac - TextEdit, Linux - Gedit.  "
      ],
      "metadata": {
        "id": "3T5vRTCmnRUW"
      }
    }
  ]
}