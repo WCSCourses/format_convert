{
  "nbformat": 4,
  "nbformat_minor": 0,
  "metadata": {
    "colab": {
      "name": "Copy_of_Convert_to_md-2.ipynb",
      "provenance": [],
      "collapsed_sections": []
    },
    "kernelspec": {
      "name": "python3",
      "display_name": "Python 3"
    },
    "language_info": {
      "name": "python"
    }
  },
  "cells": [
    {
      "cell_type": "markdown",
      "source": [
        "# Markdown conversion\n",
        "This notebook is to help convert documents to markdown format. Markdown format can be used to display content on the web. We use markdown on Github  for WCS courses.\n",
        "\n",
        "Run the cells below with \"shift + enter\" or by clicking the \"Play\" (triangle) on the left hand side of the cell. \n",
        "\n",
        "The first cell will install conda. Conda is an open source system of managing tools and libraries. More info on the library used to install conda on Google Colab is at this [website](https://inside-machinelearning.com/en/how-to-install-use-conda-on-google-colab/)\n"
      ],
      "metadata": {
        "id": "VE74tXW1jMud"
      }
    },
    {
      "cell_type": "code",
      "source": [
        "!pip install -q condacolab\n",
        "import condacolab\n",
        "condacolab.install()"
      ],
      "metadata": {
        "collapsed": true,
        "id": "KbIzQxvFWllQ"
      },
      "execution_count": null,
      "outputs": []
    },
    {
      "cell_type": "markdown",
      "source": [
        "# Install pandoc\n",
        "Next we install pandoc, a very useful tool for converting documents. There are [demos](https://pandoc.org/demos.html) for other kinds of conversions pandoc can do"
      ],
      "metadata": {
        "id": "wtfoOPjYk_mY"
      }
    },
    {
      "cell_type": "code",
      "source": [
        "!conda install -c conda-forge pandoc "
      ],
      "metadata": {
        "collapsed": true,
        "id": "yQDUiiejW-1o"
      },
      "execution_count": null,
      "outputs": []
    },
    {
      "cell_type": "markdown",
      "source": [
        "# Retrieve example files:\n",
        "Next we will clone a Github repo which contains an example word document which we will convert. You may also upload your own documents by clicking on the \"folder\"  icon on the left hand side tab, and then the \"upload files\" icon, under \"Files\"."
      ],
      "metadata": {
        "id": "MGRQcT-5me2n"
      }
    },
    {
      "cell_type": "code",
      "source": [
        "!git clone https://github.com/WCSCourses/format_convert.git"
      ],
      "metadata": {
        "id": "Q8VZWLadhL5M"
      },
      "execution_count": null,
      "outputs": []
    },
    {
      "cell_type": "markdown",
      "source": [
        "#Running pandoc\n",
        "Next we will run pandoc, indicating our source file with \"-s\", and then name of the output file with \"-o\""
      ],
      "metadata": {
        "id": "gkyr998UnAVV"
      }
    },
    {
      "cell_type": "code",
      "source": [
        "!pandoc -s /content/format_convert/example_docs/Example_wordoc_number1.docx -o example_markdown_no1.md"
      ],
      "metadata": {
        "id": "IoKO4361hgkR"
      },
      "execution_count": 4,
      "outputs": []
    },
    {
      "cell_type": "markdown",
      "source": [
        "# Using the converted docs\n",
        "Now you may use the converted document on github or any other web source that supports markdown. If you dont see the doc yet, right click on the space in the \"Files\" tab on the left, and select \"Refresh\". You can then download the \"example_markdown\" file by right clicking or clicking the three dots on the right of its name and selecting \"Download\". Markdown is best opened in a text editor. Windows- Notepad, Mac - TextEdit, Linux - Gedit.  "
      ],
      "metadata": {
        "id": "3T5vRTCmnRUW"
      }
    },
    {
      "cell_type": "markdown",
      "source": [
        "# Retrieving images from docs\n",
        "You will notice that image links fail (as sources for these must be given in markdown). We will first create pdfs of a given docx, then pull out the images from these pdf files.\n",
        "Begin by installing [poppler utilities](https://pypi.org/project/poppler-utils/) in the ubuntu base with the following commands. These will also update the texlive files used by pandoc to convert to pdf \n"
      ],
      "metadata": {
        "id": "fxjw9CYgxI1-"
      }
    },
    {
      "cell_type": "code",
      "source": [
        "!sudo apt-get update\n",
        "!sudo apt install poppler-utils\n",
        "!sudo apt-get install texlive-fonts-recommended\n",
        "!sudo apt-get install texlive-latex-base\n",
        "!sudo apt-get install texlive-fonts-extra\n",
        "!sudo apt-get install texlive-generic-extra\n",
        "!sudo apt-get install texlive-latex-extra \n"
      ],
      "metadata": {
        "id": "yBiF85NZxFiT"
      },
      "execution_count": null,
      "outputs": []
    },
    {
      "cell_type": "markdown",
      "source": [
        "First convert from docx format to pdf with pandoc"
      ],
      "metadata": {
        "id": "nTbmQ3bOci61"
      }
    },
    {
      "cell_type": "code",
      "source": [
        "!pandoc -s /content/format_convert/example_docs/Example_wordoc_number1.docx -o Example_wordoc_number1.pdf"
      ],
      "metadata": {
        "id": "ujlRhfikx_tc"
      },
      "execution_count": 6,
      "outputs": []
    },
    {
      "cell_type": "markdown",
      "source": [
        "Then retrieve the images from the file - note, this is not a perfect process, and some blank images may be found due to the input document spacing. You can change the image file type by replacing \"-png\" with the format you require"
      ],
      "metadata": {
        "id": "syqrehjZcxIE"
      }
    },
    {
      "cell_type": "code",
      "source": [
        "!pdfimages /content/Example_wordoc_number1.pdf images -png"
      ],
      "metadata": {
        "id": "Q9qXn2pt6R-k"
      },
      "execution_count": 7,
      "outputs": []
    },
    {
      "cell_type": "markdown",
      "source": [
        "## Building loops\n",
        "Now that you have converted your example file, it is time to loop through a series of files to maximise your productivity. First create a base folder. We copy the example files over for showing how this works"
      ],
      "metadata": {
        "id": "jtHXNryEdMm7"
      }
    },
    {
      "cell_type": "code",
      "source": [
        "!mkdir -p base_folder\n",
        "!cp /content/format_convert/example_docs/*.docx /content/base_folder/"
      ],
      "metadata": {
        "id": "xaS3lzv6dXu2"
      },
      "execution_count": 1,
      "outputs": []
    },
    {
      "cell_type": "markdown",
      "source": [
        "Remember you can upload files to base_folder directly by right clicking its name on the right hand side file exploring panel. Note, unix scripts often break due to spaces \" \" in filenames. You can replace these spaces with \"_\" after uploading to \"base_folder\" with the cell below."
      ],
      "metadata": {
        "id": "zbZJfMNzmv8x"
      }
    },
    {
      "cell_type": "code",
      "source": [
        "!cd /content/base_folder/; for f in *\\ *; do mv \"$f\" \"${f// /_}\"; done"
      ],
      "metadata": {
        "id": "jZtRjjJlm5bs"
      },
      "execution_count": 11,
      "outputs": []
    },
    {
      "cell_type": "markdown",
      "source": [
        "Next is a loop that will \"glob\" through any docx file in \"base_folder\". Be careful with modifying the loop - you may need to run some tests if you want to change where output files go. The first command will convert to markdown, and the second to pdf in preparation for the image extraction step."
      ],
      "metadata": {
        "id": "6APkrs9U7H_P"
      }
    },
    {
      "cell_type": "code",
      "source": [
        "!for file in /content/base_folder/*.docx; do echo $file; name=${file##*/}; mkdir -p \"$file\"_folder; pandoc -s $file -o \\/\"$file\"_folder/$name.md; done"
      ],
      "metadata": {
        "id": "2F1q1eYeMewk"
      },
      "execution_count": null,
      "outputs": []
    },
    {
      "cell_type": "code",
      "source": [
        "!for file in /content/base_folder/*.docx; do echo $file; name=${file##*/}; mkdir -p \"$file\"_folder; pandoc -s $file -o \\/\"$file\"_folder/$name.pdf; done"
      ],
      "metadata": {
        "id": "UECdR5--ozDd"
      },
      "execution_count": null,
      "outputs": []
    },
    {
      "cell_type": "markdown",
      "source": [
        "And now to retrieve the images from your converted files. This uses the paths from your input files, and assumes you converted with the pdf naming as in the loop above. It will add the images to the file folder based on the original input file. "
      ],
      "metadata": {
        "id": "PB1x6hbd9S8j"
      }
    },
    {
      "cell_type": "code",
      "source": [
        "!for file in /content/base_folder/*.docx; do echo $file; name=${file##*/}; cd \\/\"$file\"_folder/; pdfimages $name.pdf images -png; done"
      ],
      "metadata": {
        "id": "BB7S3hgr80gr"
      },
      "execution_count": null,
      "outputs": []
    }
  ]
}
